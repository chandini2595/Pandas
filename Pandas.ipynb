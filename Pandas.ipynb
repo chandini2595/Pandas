{
  "nbformat": 4,
  "nbformat_minor": 0,
  "metadata": {
    "colab": {
      "provenance": [],
      "authorship_tag": "ABX9TyOEBaEHxZ8LeZaZJeMNd/DJ",
      "include_colab_link": true
    },
    "kernelspec": {
      "name": "python3",
      "display_name": "Python 3"
    },
    "language_info": {
      "name": "python"
    }
  },
  "cells": [
    {
      "cell_type": "markdown",
      "metadata": {
        "id": "view-in-github",
        "colab_type": "text"
      },
      "source": [
        "<a href=\"https://colab.research.google.com/github/chandini2595/Pandas/blob/main/Pandas.ipynb\" target=\"_parent\"><img src=\"https://colab.research.google.com/assets/colab-badge.svg\" alt=\"Open In Colab\"/></a>"
      ]
    },
    {
      "cell_type": "code",
      "execution_count": 1,
      "metadata": {
        "colab": {
          "base_uri": "https://localhost:8080/"
        },
        "id": "8l_MekOeVMBg",
        "outputId": "0a00c655-bd30-43bd-d491-8a862a5dfb19"
      },
      "outputs": [
        {
          "output_type": "stream",
          "name": "stdout",
          "text": [
            "Requirement already satisfied: pandas in /usr/local/lib/python3.10/dist-packages (2.1.4)\n",
            "Requirement already satisfied: numpy<2,>=1.22.4 in /usr/local/lib/python3.10/dist-packages (from pandas) (1.26.4)\n",
            "Requirement already satisfied: python-dateutil>=2.8.2 in /usr/local/lib/python3.10/dist-packages (from pandas) (2.8.2)\n",
            "Requirement already satisfied: pytz>=2020.1 in /usr/local/lib/python3.10/dist-packages (from pandas) (2024.1)\n",
            "Requirement already satisfied: tzdata>=2022.1 in /usr/local/lib/python3.10/dist-packages (from pandas) (2024.1)\n",
            "Requirement already satisfied: six>=1.5 in /usr/local/lib/python3.10/dist-packages (from python-dateutil>=2.8.2->pandas) (1.16.0)\n"
          ]
        }
      ],
      "source": [
        "pip install pandas"
      ]
    },
    {
      "cell_type": "code",
      "source": [
        "#Creating Dataframe\n",
        "import pandas as pd\n",
        "#Dataset\n",
        "data={'student':['Amit','John','Dan'],\n",
        "      'rank':[1,2,3],\n",
        "      'marks':[100,200,300]\n",
        "      }\n",
        "df=pd.DataFrame(data)\n",
        "print(df)"
      ],
      "metadata": {
        "colab": {
          "base_uri": "https://localhost:8080/"
        },
        "id": "SB4L2E71WCql",
        "outputId": "6c842704-c2c4-4b3b-9b8c-c0bfbd665356"
      },
      "execution_count": 2,
      "outputs": [
        {
          "output_type": "stream",
          "name": "stdout",
          "text": [
            "  student  rank  marks\n",
            "0    Amit     1    100\n",
            "1    John     2    200\n",
            "2     Dan     3    300\n"
          ]
        }
      ]
    },
    {
      "cell_type": "code",
      "source": [
        "#Naming Indexes\n",
        "df=pd.DataFrame(data,index=['a','b','c'])\n",
        "print(df)\n"
      ],
      "metadata": {
        "colab": {
          "base_uri": "https://localhost:8080/"
        },
        "id": "WuU8pq9TWzPl",
        "outputId": "03e9b3cc-bc89-44ac-b148-7052e11e1a97"
      },
      "execution_count": 25,
      "outputs": [
        {
          "output_type": "stream",
          "name": "stdout",
          "text": [
            "  student  rank  marks\n",
            "a    Amit     1    100\n",
            "b    John     2    200\n",
            "c     Dan     3    300\n"
          ]
        }
      ]
    },
    {
      "cell_type": "code",
      "source": [
        "#Accessing values\n",
        "df.loc['a']['rank']"
      ],
      "metadata": {
        "colab": {
          "base_uri": "https://localhost:8080/"
        },
        "id": "YzXOLQcvXKrW",
        "outputId": "37c3b544-4c19-4941-f0b1-fc6b846cfc0e"
      },
      "execution_count": 11,
      "outputs": [
        {
          "output_type": "execute_result",
          "data": {
            "text/plain": [
              "1"
            ]
          },
          "metadata": {},
          "execution_count": 11
        }
      ]
    },
    {
      "cell_type": "code",
      "source": [
        "#Access rows/cols by integer positions\n",
        "\n",
        "df.iloc[[0,1,2]] #rows\n",
        "df.iloc[1][2] #cols"
      ],
      "metadata": {
        "colab": {
          "base_uri": "https://localhost:8080/"
        },
        "id": "1U76Pi8WYJw8",
        "outputId": "c38b5e05-e9f5-48f3-aab7-1e383559206f"
      },
      "execution_count": 31,
      "outputs": [
        {
          "output_type": "stream",
          "name": "stderr",
          "text": [
            "<ipython-input-31-f234e6cea55f>:4: FutureWarning: Series.__getitem__ treating keys as positions is deprecated. In a future version, integer keys will always be treated as labels (consistent with DataFrame behavior). To access a value by position, use `ser.iloc[pos]`\n",
            "  df.iloc[1][2] #cols\n"
          ]
        },
        {
          "output_type": "execute_result",
          "data": {
            "text/plain": [
              "200"
            ]
          },
          "metadata": {},
          "execution_count": 31
        }
      ]
    },
    {
      "cell_type": "code",
      "source": [
        "#Iterate Pandas by displaying column names\n",
        "for col in df:\n",
        "  print(col)\n",
        "print(df.columns)"
      ],
      "metadata": {
        "colab": {
          "base_uri": "https://localhost:8080/"
        },
        "id": "New85NDhZJRN",
        "outputId": "b42236c2-acab-4b4c-e2db-45cf3a298ed8"
      },
      "execution_count": 29,
      "outputs": [
        {
          "output_type": "stream",
          "name": "stdout",
          "text": [
            "student\n",
            "rank\n",
            "marks\n",
            "Index(['student', 'rank', 'marks'], dtype='object')\n"
          ]
        }
      ]
    },
    {
      "cell_type": "code",
      "source": [
        "data={'Student':['A','B','C'],\n",
        "      'Marks':[100,200,200]}\n",
        "df=pd.DataFrame(data,index=[1,2,3])\n",
        "print(df)\n",
        "print(df.dtypes)\n",
        "print(df.ndim)\n",
        "print(df.shape)\n",
        "print(df.size)\n",
        "print(df.index)\n",
        "print(df.T)\n",
        "print(df.head(2))\n",
        "print(df.tail(2))"
      ],
      "metadata": {
        "colab": {
          "base_uri": "https://localhost:8080/"
        },
        "id": "g413HoZ4bjow",
        "outputId": "8a2e233a-9e6b-421b-ffa1-cd7b1fec6bfd"
      },
      "execution_count": 44,
      "outputs": [
        {
          "output_type": "stream",
          "name": "stdout",
          "text": [
            "  Student  Marks\n",
            "1       A    100\n",
            "2       B    200\n",
            "3       C    200\n",
            "Student    object\n",
            "Marks       int64\n",
            "dtype: object\n",
            "2\n",
            "(3, 2)\n",
            "6\n",
            "Index([1, 2, 3], dtype='int64')\n",
            "           1    2    3\n",
            "Student    A    B    C\n",
            "Marks    100  200  200\n",
            "  Student  Marks\n",
            "1       A    100\n",
            "2       B    200\n",
            "  Student  Marks\n",
            "2       B    200\n",
            "3       C    200\n"
          ]
        }
      ]
    },
    {
      "cell_type": "code",
      "source": [
        "data1={'Student':['A','B','C','D','E'],\n",
        "       'Marks':[100,200,300,400,500]}\n",
        "data2={'Location':['CA','OH','TX','FL','NY']}\n",
        "df1=pd.DataFrame(data1)\n",
        "df2=pd.DataFrame(data2)\n",
        "print(df1.join(df2))"
      ],
      "metadata": {
        "colab": {
          "base_uri": "https://localhost:8080/"
        },
        "id": "PXVNe6jqd6dX",
        "outputId": "09ab97e4-17c6-4b2a-81bd-5e206caca6d1"
      },
      "execution_count": 45,
      "outputs": [
        {
          "output_type": "stream",
          "name": "stdout",
          "text": [
            "  Student  Marks Location\n",
            "0       A    100       CA\n",
            "1       B    200       OH\n",
            "2       C    300       TX\n",
            "3       D    400       FL\n",
            "4       E    500       NY\n"
          ]
        }
      ]
    },
    {
      "cell_type": "code",
      "source": [
        "print(pd.concat([df1,df2]))"
      ],
      "metadata": {
        "colab": {
          "base_uri": "https://localhost:8080/"
        },
        "id": "yi4Y7q4Bdp5S",
        "outputId": "c80c62ff-77b3-4ef7-e3eb-12ee5f0e281b"
      },
      "execution_count": 49,
      "outputs": [
        {
          "output_type": "stream",
          "name": "stdout",
          "text": [
            "  Student  Marks Location\n",
            "0       A  100.0      NaN\n",
            "1       B  200.0      NaN\n",
            "2       C  300.0      NaN\n",
            "3       D  400.0      NaN\n",
            "4       E  500.0      NaN\n",
            "0     NaN    NaN       CA\n",
            "1     NaN    NaN       OH\n",
            "2     NaN    NaN       TX\n",
            "3     NaN    NaN       FL\n",
            "4     NaN    NaN       NY\n"
          ]
        }
      ]
    },
    {
      "cell_type": "markdown",
      "source": [
        "#Series"
      ],
      "metadata": {
        "id": "myvFaKoWg1Yk"
      }
    },
    {
      "cell_type": "code",
      "source": [
        "import numpy as np\n",
        "data=[1,2,3,4,5,np.nan]\n",
        "s=pd.Series(data,index=['a','b','c','d','e','f'])\n",
        "print(s)"
      ],
      "metadata": {
        "colab": {
          "base_uri": "https://localhost:8080/"
        },
        "id": "-3aocuLIf_c5",
        "outputId": "204d0c8e-a1cf-4949-bcbe-852bd1c9f196"
      },
      "execution_count": 71,
      "outputs": [
        {
          "output_type": "stream",
          "name": "stdout",
          "text": [
            "a    1.0\n",
            "b    2.0\n",
            "c    3.0\n",
            "d    4.0\n",
            "e    5.0\n",
            "f    NaN\n",
            "dtype: float64\n"
          ]
        }
      ]
    },
    {
      "cell_type": "code",
      "source": [
        "print('Value :',s[2])"
      ],
      "metadata": {
        "colab": {
          "base_uri": "https://localhost:8080/"
        },
        "id": "L4h96FdqhLoB",
        "outputId": "9fc455e4-6682-4c50-e540-4c778f9b8801"
      },
      "execution_count": 57,
      "outputs": [
        {
          "output_type": "stream",
          "name": "stdout",
          "text": [
            "Value : 3\n"
          ]
        },
        {
          "output_type": "stream",
          "name": "stderr",
          "text": [
            "<ipython-input-57-034e1aec9b76>:1: FutureWarning: Series.__getitem__ treating keys as positions is deprecated. In a future version, integer keys will always be treated as labels (consistent with DataFrame behavior). To access a value by position, use `ser.iloc[pos]`\n",
            "  print('Value :',s[2])\n"
          ]
        }
      ]
    },
    {
      "cell_type": "code",
      "source": [
        "s.loc['a']"
      ],
      "metadata": {
        "colab": {
          "base_uri": "https://localhost:8080/"
        },
        "id": "A4cebNC0hQjy",
        "outputId": "841defe0-c40e-4938-8ea8-1eb8e6661a8c"
      },
      "execution_count": 58,
      "outputs": [
        {
          "output_type": "execute_result",
          "data": {
            "text/plain": [
              "1"
            ]
          },
          "metadata": {},
          "execution_count": 58
        }
      ]
    },
    {
      "cell_type": "code",
      "source": [
        "s.iloc[2]"
      ],
      "metadata": {
        "colab": {
          "base_uri": "https://localhost:8080/"
        },
        "id": "3yoDvX0wiC_7",
        "outputId": "b651b99f-e665-441d-fbce-21792fe9c052"
      },
      "execution_count": 59,
      "outputs": [
        {
          "output_type": "execute_result",
          "data": {
            "text/plain": [
              "3"
            ]
          },
          "metadata": {},
          "execution_count": 59
        }
      ]
    },
    {
      "cell_type": "code",
      "source": [
        "print(s.dtype)\n",
        "print(s.size)\n",
        "print(s.ndim)\n",
        "print(s.name)\n",
        "print(s.hasnans)\n",
        "print(s.index)\n",
        "print(s.head(2))\n",
        "print(s.tail(2))\n",
        "print(s.info())"
      ],
      "metadata": {
        "colab": {
          "base_uri": "https://localhost:8080/"
        },
        "id": "tnAU-OVhiYVF",
        "outputId": "4f07e3bc-a234-4ad9-d7fc-ecc4550b4ebc"
      },
      "execution_count": 72,
      "outputs": [
        {
          "output_type": "stream",
          "name": "stdout",
          "text": [
            "float64\n",
            "6\n",
            "1\n",
            "None\n",
            "True\n",
            "Index(['a', 'b', 'c', 'd', 'e', 'f'], dtype='object')\n",
            "a    1.0\n",
            "b    2.0\n",
            "dtype: float64\n",
            "e    5.0\n",
            "f    NaN\n",
            "dtype: float64\n",
            "<class 'pandas.core.series.Series'>\n",
            "Index: 6 entries, a to f\n",
            "Series name: None\n",
            "Non-Null Count  Dtype  \n",
            "--------------  -----  \n",
            "5 non-null      float64\n",
            "dtypes: float64(1)\n",
            "memory usage: 96.0+ bytes\n",
            "None\n"
          ]
        }
      ]
    },
    {
      "cell_type": "code",
      "source": [
        "s1=pd.Series([1,2,3,4,5])\n",
        "s2=pd.Series([6,7,8,9,10])\n",
        "def demo(x1,x2):\n",
        "  if(x1>x2):\n",
        "    return x1\n",
        "  else:\n",
        "    return x2\n",
        "print(s1.combine(s2,demo))"
      ],
      "metadata": {
        "colab": {
          "base_uri": "https://localhost:8080/"
        },
        "id": "-HVLGgw_icN1",
        "outputId": "a9c10f88-ea9b-46ae-9208-b3a8bdb5e248"
      },
      "execution_count": 78,
      "outputs": [
        {
          "output_type": "stream",
          "name": "stdout",
          "text": [
            "0     6\n",
            "1     7\n",
            "2     8\n",
            "3     9\n",
            "4    10\n",
            "dtype: int64\n"
          ]
        }
      ]
    },
    {
      "cell_type": "code",
      "source": [
        "s=pd.Series(data=[1,2,1,2,3],dtype='category')\n",
        "s=s.cat.add_categories(5)\n",
        "print(s)"
      ],
      "metadata": {
        "colab": {
          "base_uri": "https://localhost:8080/"
        },
        "id": "mMTrgOZRnmQi",
        "outputId": "9a5ab843-c705-4b9c-be77-5dd3eb49a0e2"
      },
      "execution_count": 94,
      "outputs": [
        {
          "output_type": "stream",
          "name": "stdout",
          "text": [
            "0    1\n",
            "1    2\n",
            "2    1\n",
            "3    2\n",
            "4    3\n",
            "dtype: category\n",
            "Categories (4, int64): [1, 2, 3, 5]\n"
          ]
        }
      ]
    },
    {
      "cell_type": "code",
      "source": [
        "df=pd.read_csv('/content/Student.csv')\n",
        "print(df)\n",
        "print(df.head(3))\n",
        "print(df.tail(3))"
      ],
      "metadata": {
        "colab": {
          "base_uri": "https://localhost:8080/"
        },
        "id": "f2yYu4o_oNNp",
        "outputId": "1322a629-d8cd-4df0-aa30-31d7ea39852d"
      },
      "execution_count": 99,
      "outputs": [
        {
          "output_type": "stream",
          "name": "stdout",
          "text": [
            "  Student  Rank  Marks\n",
            "0    Amit     1    100\n",
            "1   Vijay     2     90\n",
            "2    Kohl     3     80\n",
            "3   Dhoni     4     70\n",
            "4  Amaira     5     60\n",
            "  Student  Rank  Marks\n",
            "0    Amit     1    100\n",
            "1   Vijay     2     90\n",
            "2    Kohl     3     80\n",
            "  Student  Rank  Marks\n",
            "2    Kohl     3     80\n",
            "3   Dhoni     4     70\n",
            "4  Amaira     5     60\n"
          ]
        }
      ]
    },
    {
      "cell_type": "code",
      "source": [
        "#res=df['Student','Marks']\n",
        "df1=(df[df.columns[1:3]])\n",
        "print(df1)\n",
        "print(df.columns)"
      ],
      "metadata": {
        "colab": {
          "base_uri": "https://localhost:8080/"
        },
        "id": "Li8jZPq7sabg",
        "outputId": "376934d5-5a84-4853-9de1-e88ef59e372b"
      },
      "execution_count": 111,
      "outputs": [
        {
          "output_type": "stream",
          "name": "stdout",
          "text": [
            "   Rank  Marks\n",
            "0     1    100\n",
            "1     2     90\n",
            "2     3     80\n",
            "3     4     70\n",
            "4     5     60\n",
            "Index(['Student', 'Rank', 'Marks'], dtype='object')\n"
          ]
        }
      ]
    },
    {
      "cell_type": "code",
      "source": [
        "df.insert(1,'Section',['a','b','c','d','e'])\n",
        "print(df)"
      ],
      "metadata": {
        "colab": {
          "base_uri": "https://localhost:8080/"
        },
        "id": "w2WqjFxpt49u",
        "outputId": "a34a41fc-2d0e-4d8b-c102-867b30ad25db"
      },
      "execution_count": 112,
      "outputs": [
        {
          "output_type": "stream",
          "name": "stdout",
          "text": [
            "  Student Section  Rank  Marks\n",
            "0    Amit       a     1    100\n",
            "1   Vijay       b     2     90\n",
            "2    Kohl       c     3     80\n",
            "3   Dhoni       d     4     70\n",
            "4  Amaira       e     5     60\n"
          ]
        }
      ]
    },
    {
      "cell_type": "code",
      "source": [
        "df2=df.assign(rollno=[101,102,103,104,105])\n",
        "print(df2)"
      ],
      "metadata": {
        "colab": {
          "base_uri": "https://localhost:8080/"
        },
        "id": "mwhYyNzWuQe3",
        "outputId": "0eaa458c-e297-46b9-c0f9-540f13321468"
      },
      "execution_count": 114,
      "outputs": [
        {
          "output_type": "stream",
          "name": "stdout",
          "text": [
            "  Student Section  Rank  Marks  rollno\n",
            "0    Amit       a     1    100     101\n",
            "1   Vijay       b     2     90     102\n",
            "2    Kohl       c     3     80     103\n",
            "3   Dhoni       d     4     70     104\n",
            "4  Amaira       e     5     60     105\n"
          ]
        }
      ]
    },
    {
      "cell_type": "code",
      "source": [
        "df2=df2.drop(columns=['Section'])\n",
        "print(df2)\n",
        "df2=df2.drop(labels=[3,4],axis=0)\n",
        "print(df2)"
      ],
      "metadata": {
        "colab": {
          "base_uri": "https://localhost:8080/"
        },
        "id": "g09m9UdguwTV",
        "outputId": "1bd3ca09-871f-461c-fff6-ef50f120a407"
      },
      "execution_count": 120,
      "outputs": [
        {
          "output_type": "stream",
          "name": "stdout",
          "text": [
            "  Student  Rank  Marks  rollno\n",
            "0    Amit     1    100     101\n",
            "1   Vijay     2     90     102\n",
            "2    Kohl     3     80     103\n",
            "3   Dhoni     4     70     104\n",
            "4  Amaira     5     60     105\n",
            "  Student  Rank  Marks  rollno\n",
            "0    Amit     1    100     101\n",
            "1   Vijay     2     90     102\n",
            "2    Kohl     3     80     103\n"
          ]
        }
      ]
    },
    {
      "cell_type": "code",
      "source": [
        "df2=df2.sort_values(by='Marks',ascending=True)\n",
        "print(df2)"
      ],
      "metadata": {
        "colab": {
          "base_uri": "https://localhost:8080/"
        },
        "id": "7Oah0LQ5w9Ms",
        "outputId": "f4cede72-da28-4074-c9bf-f7d18e414e8a"
      },
      "execution_count": 122,
      "outputs": [
        {
          "output_type": "stream",
          "name": "stdout",
          "text": [
            "  Student  Rank  Marks  rollno\n",
            "2    Kohl     3     80     103\n",
            "1   Vijay     2     90     102\n",
            "0    Amit     1    100     101\n"
          ]
        }
      ]
    },
    {
      "cell_type": "code",
      "source": [
        "# prompt: add a row to df2\n",
        "\n",
        "df2.loc[len(df2.index)] = ['Fork',4, 100, 106]\n",
        "print(df2.duplicated())\n"
      ],
      "metadata": {
        "colab": {
          "base_uri": "https://localhost:8080/"
        },
        "id": "YTj4kX4FyOag",
        "outputId": "6b7b59e6-70b6-48ca-ed6e-1a2215b70465"
      },
      "execution_count": 129,
      "outputs": [
        {
          "output_type": "stream",
          "name": "stdout",
          "text": [
            "2    False\n",
            "1    False\n",
            "0    False\n",
            "3    False\n",
            "4     True\n",
            "5     True\n",
            "dtype: bool\n"
          ]
        }
      ]
    },
    {
      "cell_type": "code",
      "source": [
        "df3=(df2.drop_duplicates())\n",
        "print(df3)"
      ],
      "metadata": {
        "colab": {
          "base_uri": "https://localhost:8080/"
        },
        "id": "Q6AfJnf1yn2K",
        "outputId": "024ec2c6-4fe8-4691-ae5f-5e550ba6c3db"
      },
      "execution_count": 135,
      "outputs": [
        {
          "output_type": "stream",
          "name": "stdout",
          "text": [
            "  Student  Rank  Marks  rollno\n",
            "2    Kohl     3     80     103\n",
            "1   Vijay     2     90     102\n",
            "0    Amit     1    100     101\n",
            "3    Fork     4    100     106\n"
          ]
        }
      ]
    },
    {
      "cell_type": "markdown",
      "source": [
        "#Clean the data"
      ],
      "metadata": {
        "id": "HWLwZGlHy8rZ"
      }
    },
    {
      "cell_type": "code",
      "source": [
        "df=pd.read_excel('/content/Untitled spreadsheet.xlsx')\n",
        "print(df)"
      ],
      "metadata": {
        "colab": {
          "base_uri": "https://localhost:8080/"
        },
        "id": "E7jM8XTSy__b",
        "outputId": "c651c02c-7a67-46b5-96c9-3aaea61bb6ef"
      },
      "execution_count": 143,
      "outputs": [
        {
          "output_type": "stream",
          "name": "stdout",
          "text": [
            "   Frequency  Points\n",
            "0       2.40   34.30\n",
            "1       3.20   23.60\n",
            "2       6.10     NaN\n",
            "3       1.30   56.30\n",
            "4      90.00     NaN\n",
            "5       0.12     NaN\n",
            "6        NaN    0.32\n"
          ]
        }
      ]
    },
    {
      "cell_type": "code",
      "source": [
        "df1=df.fillna(111)\n",
        "print(df1)"
      ],
      "metadata": {
        "colab": {
          "base_uri": "https://localhost:8080/"
        },
        "id": "2iId4fTX0U6J",
        "outputId": "7f32b81e-1a34-4332-84a5-82395f8705cb"
      },
      "execution_count": 144,
      "outputs": [
        {
          "output_type": "stream",
          "name": "stdout",
          "text": [
            "   Frequency  Points\n",
            "0       2.40   34.30\n",
            "1       3.20   23.60\n",
            "2       6.10  111.00\n",
            "3       1.30   56.30\n",
            "4      90.00  111.00\n",
            "5       0.12  111.00\n",
            "6     111.00    0.32\n"
          ]
        }
      ]
    },
    {
      "cell_type": "code",
      "source": [
        "df1=df.dropna()\n",
        "print(df1)"
      ],
      "metadata": {
        "colab": {
          "base_uri": "https://localhost:8080/"
        },
        "id": "WvpEhQVnz5Cd",
        "outputId": "0b332a3e-7c44-4ca4-8eec-152d7677944c"
      },
      "execution_count": 142,
      "outputs": [
        {
          "output_type": "stream",
          "name": "stdout",
          "text": [
            "   Frequency  Points\n",
            "0        2.4    34.3\n",
            "1        3.2    23.6\n",
            "3        1.3    56.3\n"
          ]
        }
      ]
    }
  ]
}